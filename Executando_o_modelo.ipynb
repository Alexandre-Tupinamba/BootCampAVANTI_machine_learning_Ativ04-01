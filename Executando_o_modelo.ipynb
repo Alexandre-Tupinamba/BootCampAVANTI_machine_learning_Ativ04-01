{
  "cells": [
    {
      "cell_type": "markdown",
      "metadata": {
        "id": "view-in-github",
        "colab_type": "text"
      },
      "source": [
        "<a href=\"https://colab.research.google.com/github/RaphaelCarvalh/clothing-segmentation-project/blob/main/Executando_o_modelo.ipynb\" target=\"_parent\"><img src=\"https://colab.research.google.com/assets/colab-badge.svg\" alt=\"Open In Colab\"/></a>"
      ]
    },
    {
      "cell_type": "markdown",
      "source": [
        "# Montar o Drive e acessar a pasta compartilhada\n"
      ],
      "metadata": {
        "id": "r_Jvzf7O6SS6"
      }
    },
    {
      "cell_type": "code",
      "source": [
        "from google.colab import drive\n",
        "import os\n",
        "\n",
        "# Monta o Drive\n",
        "drive.mount('/content/drive')\n",
        "\n",
        "# Pasta fixa para checkpoints\n",
        "FIXED_DIR = \"/content/drive/MyDrive/clothing_segmentation_pasta2/checkpoints\"\n",
        "os.makedirs(FIXED_DIR, exist_ok=True)\n",
        "print(f\"✅ Pasta criada / confirmada: {FIXED_DIR}\")\n",
        "\n",
        "# Caminho para o melhor modelo\n",
        "BEST_MODEL_PATH = os.path.join(FIXED_DIR, \"best_model_final.pt\")\n",
        "print(\"⚠️ Coloque seu arquivo 'best_model_final.pt' dentro desta pasta:\")\n",
        "print(BEST_MODEL_PATH)\n"
      ],
      "metadata": {
        "id": "YOoUgBEy9t8J",
        "outputId": "39136d40-5578-4770-ad31-6d58762b3e3a",
        "colab": {
          "base_uri": "https://localhost:8080/"
        }
      },
      "execution_count": 37,
      "outputs": [
        {
          "output_type": "stream",
          "name": "stdout",
          "text": [
            "Drive already mounted at /content/drive; to attempt to forcibly remount, call drive.mount(\"/content/drive\", force_remount=True).\n",
            "✅ Pasta criada / confirmada: /content/drive/MyDrive/clothing_segmentation_pasta2/checkpoints\n",
            "⚠️ Coloque seu arquivo 'best_model_final.pt' dentro desta pasta:\n",
            "/content/drive/MyDrive/clothing_segmentation_pasta2/checkpoints/best_model_final.pt\n"
          ]
        }
      ]
    },
    {
      "cell_type": "code",
      "source": [
        "# Exemplo de uso\n",
        "FIXED_DIR = \"/content/drive/MyDrive/clothing_segmentation_pasta2/provas\"\n",
        "os.makedirs(FIXED_DIR, exist_ok=True)\n",
        "print(f\"✅ Pasta criada / confirmada: {FIXED_DIR}\")"
      ],
      "metadata": {
        "id": "y4eGrE4nAqk0",
        "outputId": "31898b16-3cd5-44be-b642-797914a06d02",
        "colab": {
          "base_uri": "https://localhost:8080/"
        }
      },
      "execution_count": 47,
      "outputs": [
        {
          "output_type": "stream",
          "name": "stdout",
          "text": [
            "✅ Pasta criada / confirmada: /content/drive/MyDrive/clothing_segmentation_pasta2/provas\n"
          ]
        }
      ]
    },
    {
      "cell_type": "code",
      "source": [
        "import os\n",
        "\n",
        "CHECKPOINT_DIR = \"/content/drive/MyDrive/clothing_segmentation_pasta2/checkpoints\"\n",
        "\n",
        "# Cria a pasta caso não exista\n",
        "os.makedirs(CHECKPOINT_DIR, exist_ok=True)\n",
        "\n",
        "# Lista o conteúdo\n",
        "print(f\"Conteúdo de {CHECKPOINT_DIR}:\")\n",
        "for item in os.listdir(CHECKPOINT_DIR):\n",
        "    print(\"-\", item)\n"
      ],
      "metadata": {
        "id": "01opmkeX-XIL",
        "outputId": "37c31e28-6b13-45fb-fc53-28ec552a3a52",
        "colab": {
          "base_uri": "https://localhost:8080/"
        }
      },
      "execution_count": 38,
      "outputs": [
        {
          "output_type": "stream",
          "name": "stdout",
          "text": [
            "Conteúdo de /content/drive/MyDrive/clothing_segmentation_pasta2/checkpoints:\n",
            "- checkpoint_epoch_1.pt\n",
            "- checkpoint_epoch_2.pt\n",
            "- checkpoint_epoch_3.pt\n",
            "- checkpoint_epoch_4.pt\n",
            "- checkpoint_epoch_5.pt\n",
            "- checkpoint_epoch_6.pt\n",
            "- checkpoint_epoch_7.pt\n",
            "- checkpoint_epoch_8.pt\n",
            "- checkpoint_epoch_9.pt\n",
            "- checkpoint_epoch_10.pt\n",
            "- checkpoint_epoch_11.pt\n",
            "- checkpoint_epoch_12.pt\n",
            "- checkpoint_epoch_13.pt\n",
            "- checkpoint_epoch_14.pt\n",
            "- checkpoint_epoch_15.pt\n",
            "- checkpoint_epoch_16.pt\n",
            "- checkpoint_epoch_17.pt\n",
            "- checkpoint_epoch_18.pt\n",
            "- checkpoint_epoch_19.pt\n",
            "- checkpoint_epoch_20.pt\n",
            "- checkpoint_epoch_21.pt\n",
            "- checkpoint_epoch_22.pt\n",
            "- checkpoint_epoch_23.pt\n",
            "- checkpoint_epoch_24.pt\n",
            "- best_model_final.pt\n",
            "- log_treinamento.csv\n"
          ]
        }
      ]
    },
    {
      "cell_type": "code",
      "source": [
        "import torch\n",
        "from torchvision.models.segmentation import deeplabv3_resnet50\n",
        "\n",
        "# 4️⃣ Definir dispositivo (GPU se disponível)\n",
        "device = torch.device(\"cuda\" if torch.cuda.is_available() else \"cpu\")\n",
        "print(\"🚀 Usando dispositivo:\", device)\n",
        "\n",
        "# 5️⃣ Criar modelo com num_classes correto\n",
        "num_classes = 5  # ajuste conforme seu treinamento\n",
        "model = deeplabv3_resnet50(weights=None, aux_loss=True)\n",
        "model.classifier[-1] = torch.nn.Conv2d(256, num_classes, kernel_size=(1,1))\n",
        "model.aux_classifier[-1] = torch.nn.Conv2d(256, num_classes, kernel_size=(1,1))\n",
        "model = model.to(device)\n",
        "\n",
        "# 6️⃣ Carregar checkpoint\n",
        "checkpoint = torch.load(BEST_MODEL_PATH, map_location=device)\n",
        "if \"model_state\" in checkpoint:\n",
        "    state_dict = checkpoint[\"model_state\"]\n",
        "else:\n",
        "    state_dict = checkpoint\n",
        "\n",
        "# 7️⃣ Ignorar chaves do aux_classifier caso queira\n",
        "state_dict = {k: v for k, v in state_dict.items() if not k.startswith(\"aux_classifier\")}\n",
        "model.load_state_dict(state_dict, strict=False)\n",
        "\n",
        "model.eval()\n",
        "print(\"✅ Modelo carregado e pronto para inferência!\")"
      ],
      "metadata": {
        "colab": {
          "base_uri": "https://localhost:8080/"
        },
        "id": "zx41B8fN-HG5",
        "outputId": "eafeaad8-3466-4faf-f06e-e8658a9ef1f9"
      },
      "execution_count": 44,
      "outputs": [
        {
          "output_type": "stream",
          "name": "stdout",
          "text": [
            "🚀 Usando dispositivo: cpu\n",
            "✅ Modelo carregado e pronto para inferência!\n"
          ]
        }
      ]
    },
    {
      "cell_type": "code",
      "source": [
        "from PIL import Image\n",
        "import torch\n",
        "from torchvision.models.segmentation import deeplabv3_resnet50\n",
        "import torchvision.transforms as transforms\n",
        "import matplotlib.pyplot as plt\n",
        "import numpy as np\n",
        "\n",
        "device = torch.device(\"cpu\")  # ou \"cuda\" se disponível\n",
        "\n",
        "# Carregar modelo\n",
        "num_classes = 5\n",
        "model = deeplabv3_resnet50(weights=None)\n",
        "model.classifier[-1] = torch.nn.Conv2d(256, num_classes, kernel_size=(1,1))\n",
        "state_dict = torch.load(\"/content/drive/MyDrive/clothing_segmentation_pasta2/checkpoints/best_model_final.pt\", map_location=device)\n",
        "model.load_state_dict(state_dict, strict=False)  # <- important\n",
        "model.eval()\n",
        "model.to(device)\n",
        "\n",
        "# Transform\n",
        "transform = transforms.Compose([\n",
        "    transforms.Resize((256, 256)),\n",
        "    transforms.ToTensor(),\n",
        "    transforms.Normalize(mean=[0.485, 0.456, 0.406],\n",
        "                         std=[0.229, 0.224, 0.225])\n",
        "])\n",
        "\n",
        "# Carregar imagem\n",
        "img_path = \"/mnt/data/54f7ce4d-aa88-4295-ba69-6fa5fe0bc429.png\"\n",
        "img = Image.open(img_path).convert(\"RGB\")\n",
        "img_tensor = transform(img).unsqueeze(0).to(device)\n",
        "\n",
        "# Inferência\n",
        "with torch.no_grad():\n",
        "    output = model(img_tensor)['out']\n",
        "    mask = torch.argmax(output.squeeze(), dim=0).cpu().numpy()\n",
        "\n",
        "# Redimensionar máscara para tamanho original\n",
        "mask_img = Image.fromarray(mask.astype(np.uint8)).resize(img.size, resample=Image.NEAREST)\n",
        "mask_array = np.array(mask_img)\n",
        "\n",
        "# Visualização\n",
        "plt.figure(figsize=(10,5))\n",
        "plt.subplot(1,2,1)\n",
        "plt.imshow(img)\n",
        "plt.title(\"Imagem Original\")\n",
        "plt.subplot(1,2,2)\n",
        "plt.imshow(mask_array, cmap=\"tab20\")\n",
        "plt.title(\"Máscara\")\n",
        "plt.show()\n"
      ],
      "metadata": {
        "id": "6JRce_BiAHqW",
        "outputId": "2bf64113-ea2e-46eb-9069-539fe696ad27",
        "colab": {
          "base_uri": "https://localhost:8080/",
          "height": 332
        }
      },
      "execution_count": 59,
      "outputs": [
        {
          "output_type": "error",
          "ename": "FileNotFoundError",
          "evalue": "[Errno 2] No such file or directory: '/mnt/data/54f7ce4d-aa88-4295-ba69-6fa5fe0bc429.png'",
          "traceback": [
            "\u001b[0;31m---------------------------------------------------------------------------\u001b[0m",
            "\u001b[0;31mFileNotFoundError\u001b[0m                         Traceback (most recent call last)",
            "\u001b[0;32m/tmp/ipython-input-245104163.py\u001b[0m in \u001b[0;36m<cell line: 0>\u001b[0;34m()\u001b[0m\n\u001b[1;32m     27\u001b[0m \u001b[0;31m# Carregar imagem\u001b[0m\u001b[0;34m\u001b[0m\u001b[0;34m\u001b[0m\u001b[0m\n\u001b[1;32m     28\u001b[0m \u001b[0mimg_path\u001b[0m \u001b[0;34m=\u001b[0m \u001b[0;34m\"/mnt/data/54f7ce4d-aa88-4295-ba69-6fa5fe0bc429.png\"\u001b[0m\u001b[0;34m\u001b[0m\u001b[0;34m\u001b[0m\u001b[0m\n\u001b[0;32m---> 29\u001b[0;31m \u001b[0mimg\u001b[0m \u001b[0;34m=\u001b[0m \u001b[0mImage\u001b[0m\u001b[0;34m.\u001b[0m\u001b[0mopen\u001b[0m\u001b[0;34m(\u001b[0m\u001b[0mimg_path\u001b[0m\u001b[0;34m)\u001b[0m\u001b[0;34m.\u001b[0m\u001b[0mconvert\u001b[0m\u001b[0;34m(\u001b[0m\u001b[0;34m\"RGB\"\u001b[0m\u001b[0;34m)\u001b[0m\u001b[0;34m\u001b[0m\u001b[0;34m\u001b[0m\u001b[0m\n\u001b[0m\u001b[1;32m     30\u001b[0m \u001b[0mimg_tensor\u001b[0m \u001b[0;34m=\u001b[0m \u001b[0mtransform\u001b[0m\u001b[0;34m(\u001b[0m\u001b[0mimg\u001b[0m\u001b[0;34m)\u001b[0m\u001b[0;34m.\u001b[0m\u001b[0munsqueeze\u001b[0m\u001b[0;34m(\u001b[0m\u001b[0;36m0\u001b[0m\u001b[0;34m)\u001b[0m\u001b[0;34m.\u001b[0m\u001b[0mto\u001b[0m\u001b[0;34m(\u001b[0m\u001b[0mdevice\u001b[0m\u001b[0;34m)\u001b[0m\u001b[0;34m\u001b[0m\u001b[0;34m\u001b[0m\u001b[0m\n\u001b[1;32m     31\u001b[0m \u001b[0;34m\u001b[0m\u001b[0m\n",
            "\u001b[0;32m/usr/local/lib/python3.12/dist-packages/PIL/Image.py\u001b[0m in \u001b[0;36mopen\u001b[0;34m(fp, mode, formats)\u001b[0m\n\u001b[1;32m   3511\u001b[0m     \u001b[0;32mif\u001b[0m \u001b[0mis_path\u001b[0m\u001b[0;34m(\u001b[0m\u001b[0mfp\u001b[0m\u001b[0;34m)\u001b[0m\u001b[0;34m:\u001b[0m\u001b[0;34m\u001b[0m\u001b[0;34m\u001b[0m\u001b[0m\n\u001b[1;32m   3512\u001b[0m         \u001b[0mfilename\u001b[0m \u001b[0;34m=\u001b[0m \u001b[0mos\u001b[0m\u001b[0;34m.\u001b[0m\u001b[0mfspath\u001b[0m\u001b[0;34m(\u001b[0m\u001b[0mfp\u001b[0m\u001b[0;34m)\u001b[0m\u001b[0;34m\u001b[0m\u001b[0;34m\u001b[0m\u001b[0m\n\u001b[0;32m-> 3513\u001b[0;31m         \u001b[0mfp\u001b[0m \u001b[0;34m=\u001b[0m \u001b[0mbuiltins\u001b[0m\u001b[0;34m.\u001b[0m\u001b[0mopen\u001b[0m\u001b[0;34m(\u001b[0m\u001b[0mfilename\u001b[0m\u001b[0;34m,\u001b[0m \u001b[0;34m\"rb\"\u001b[0m\u001b[0;34m)\u001b[0m\u001b[0;34m\u001b[0m\u001b[0;34m\u001b[0m\u001b[0m\n\u001b[0m\u001b[1;32m   3514\u001b[0m         \u001b[0mexclusive_fp\u001b[0m \u001b[0;34m=\u001b[0m \u001b[0;32mTrue\u001b[0m\u001b[0;34m\u001b[0m\u001b[0;34m\u001b[0m\u001b[0m\n\u001b[1;32m   3515\u001b[0m     \u001b[0;32melse\u001b[0m\u001b[0;34m:\u001b[0m\u001b[0;34m\u001b[0m\u001b[0;34m\u001b[0m\u001b[0m\n",
            "\u001b[0;31mFileNotFoundError\u001b[0m: [Errno 2] No such file or directory: '/mnt/data/54f7ce4d-aa88-4295-ba69-6fa5fe0bc429.png'"
          ]
        }
      ]
    }
  ],
  "metadata": {
    "colab": {
      "name": "Conheça o Colab",
      "toc_visible": true,
      "provenance": [],
      "include_colab_link": true
    },
    "kernelspec": {
      "display_name": "Python 3",
      "name": "python3"
    }
  },
  "nbformat": 4,
  "nbformat_minor": 0
}